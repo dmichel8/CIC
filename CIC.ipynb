{
 "cells": [
  {
   "cell_type": "code",
   "execution_count": 22,
   "metadata": {},
   "outputs": [],
   "source": [
    "import numpy as np\n",
    "import matplotlib.pyplot as plt"
   ]
  },
  {
   "cell_type": "markdown",
   "metadata": {},
   "source": [
    "# Generate the particles\n",
    "\n",
    "The particles are generated here. There are also checks for uniformity"
   ]
  },
  {
   "cell_type": "code",
   "execution_count": 23,
   "metadata": {},
   "outputs": [],
   "source": [
    "def genParticles(L, Np, Nc, l, rng, verify=False):\n",
    "    Nc = Nc\n",
    "    l = l\n",
    "    rints = rng.integers(low=0, high=10, size=3)\n",
    "\n",
    "    radius = L/4\n",
    "    centre = np.array([L/2, L/2, L/2])\n",
    "\n",
    "    particles = np.zeros((Np, 9))\n",
    "    sph_field = np.zeros((Np, 3))\n",
    "\n",
    "    for i in range(Np):\n",
    "        rad = radius*((4*rng.random()*radius)**(1/4)) #radius Jacobian\n",
    "        thet = np.arccos(1 - 2*rng.random()) # The random for theta Jacobian\n",
    "        phi = 2*np.pi*rng.random()\n",
    "        sph_field[i, 0] = rad\n",
    "        sph_field[i, 1] = thet\n",
    "        sph_field[i, 2] = phi\n",
    "        jacobian = 1\n",
    "        particles[i, 0] = (rad*np.sin(thet)*np.cos(phi) + centre[0])*jacobian\n",
    "        particles[i, 1] = (rad*np.sin(thet)*np.sin(phi) + centre[1])*jacobian\n",
    "        particles[i, 2] = (rad*np.cos(thet) + centre[2])*jacobian\n",
    "\n",
    "    # ----------------------------------------------\n",
    "    # This is all verification down here\n",
    "    # ----------------------------------------------\n",
    "    if verify:\n",
    "        N_block = 8\n",
    "        num_in_block = np.zeros(N_block)\n",
    "        for j in range(len(particles)):\n",
    "            if particles[j][0] > centre[0]:\n",
    "                if particles[j][1] > centre[1]:\n",
    "                    if particles[j][2] > centre[2]:\n",
    "                        num_in_block[0] += 1\n",
    "                    else:\n",
    "                        num_in_block[4] += 1\n",
    "                else:\n",
    "                    if particles[j][2] > centre[2]:\n",
    "                        num_in_block[3] += 1\n",
    "                    else:\n",
    "                        num_in_block[7] += 1\n",
    "            else:\n",
    "                if particles[j][1] > centre[1]:\n",
    "                    if particles[j][2] > centre[2]:\n",
    "                        num_in_block[1] += 1\n",
    "                    else:\n",
    "                        num_in_block[5] += 1\n",
    "                else:\n",
    "                    if particles[j][2] > centre[2]:\n",
    "                        num_in_block[2] += 1\n",
    "                    else:\n",
    "                        num_in_block[6] += 1\n",
    "\n",
    "        radius_check = []\n",
    "        Np_samples = Np//200\n",
    "        for i in range(len(particles)):\n",
    "            if i % Np_samples == 0:\n",
    "                radius_check.append(np.sqrt(((particles[i,0] - centre[0])**2) + ((particles[i,1] - centre[1])**2) + ((particles[i,2] - centre[2])**2)))\n",
    "        numline = np.zeros(len(radius_check))\n",
    "\n",
    "        radmax = 0\n",
    "        for i in range(len(radius_check)):\n",
    "            if np.sqrt(((particles[i,0] - centre[0])**2) + ((particles[i,1] - centre[1])**2) + ((particles[i,2] - centre[2])**2)) > radmax:\n",
    "                radmax = np.sqrt(((particles[i,0] - centre[0])**2) + ((particles[i,1] - centre[1])**2) + ((particles[i,2] - centre[2])**2))\n",
    "\n",
    "        print(\"Running Sanity Checks\")\n",
    "        print(\"Debug: Each Quadrant should have around \" + str(Np//N_block) + \" particles\")\n",
    "        print(\"Quadrants 1-8 have: \", num_in_block)\n",
    "        print(\"\\nThe radius should be no larger than \" + str(radius) + \". The maximum radius is \" + str(radmax))\n",
    "\n",
    "        # Uniformity check\n",
    "\n",
    "        N_div = 50\n",
    "        xc = np.zeros(N_div)\n",
    "        a = L/2\n",
    "        b = (L/2) + L/2\n",
    "        for i in range(1,N_div):\n",
    "            for j in range(len(particles)):\n",
    "                if (particles[j, 0] > ((radius*((i-1)/N_div)) + a)) and (particles[j, 0] < ((radius*((i)/N_div)) + a)):\n",
    "                    xc[i-1] += 1\n",
    "\n",
    "        print(\"\\nif the distribution is uniform, all the values of this matrix should be about the same:\")\n",
    "        print(xc)\n",
    "\n",
    "        print(\"\\nCheck to see if the following circle is Equally distributed\")\n",
    "\n",
    "        plt.plot(particles[:,0], particles[:,1], 'o', markersize=0.25)\n",
    "        plt.title(\"Slice of the sphere down the middle\")\n",
    "        plt.gca().set_aspect('equal')\n",
    "        plt.show()\n",
    "    return particles\n",
    "\n",
    "\n"
   ]
  },
  {
   "cell_type": "markdown",
   "metadata": {},
   "source": [
    "# Cartesian Mesh"
   ]
  },
  {
   "cell_type": "markdown",
   "metadata": {},
   "source": [
    "Determine i,j,k"
   ]
  },
  {
   "cell_type": "code",
   "execution_count": 58,
   "metadata": {},
   "outputs": [],
   "source": [
    "def calc_indices(field, l, Nc=128, L=1, verify=False):\n",
    "    \n",
    "\n",
    "    \n",
    "\n",
    "    Ntest = len(field)\n",
    "    p_set = np.zeros((Ntest, 9))\n",
    "\n",
    "    for i in range(Ntest):\n",
    "        p_set[i] = field[i]\n",
    "\n",
    "    for i in range(len(p_set)):\n",
    "        if p_set[i, 0] <= l or p_set[i, 1] <= l or p_set[i, 2] <= l or p_set[i, 0] >= L-l or p_set[i, 1] >= L-l or p_set[i, 2] >= L-l:\n",
    "            p_set = np.delete(p_set, i, 0)\n",
    "\n",
    "\n",
    "    lvals = np.linspace(0, L, 128, endpoint=True)\n",
    "    start_indices = np.zeros(10, int)\n",
    "\n",
    "    for i in range(1, len(start_indices)):\n",
    "        for j in range(128):\n",
    "            if start_indices[i] == 0 and int((lvals[j] - int(lvals[j])) * 10) == i:\n",
    "                start_indices[i] = j\n",
    "            else:\n",
    "                continue\n",
    "\n",
    "    x_l = np.zeros(len(p_set), int)\n",
    "\n",
    "    dimension = 3\n",
    "    N_temp = len(p_set)\n",
    "\n",
    "    indices = np.zeros((N_temp, 6), int)\n",
    "\n",
    "    for i in range(len(p_set)):\n",
    "        xval = p_set[i,0]\n",
    "        j = start_indices[int((xval - int(xval)) * 10)]\n",
    "        while j < 128+1:\n",
    "            if xval >= lvals[j-1] and xval <= lvals[j]:\n",
    "                if xval <= lvals[j-1] + (l/2):\n",
    "                    indices[i][0] = j-2\n",
    "                    indices[i][1] = j-1\n",
    "                else:\n",
    "                    indices[i][0] = j-1\n",
    "                    indices[i][1] = j\n",
    "                break\n",
    "            else:\n",
    "                j += 1\n",
    "\n",
    "\n",
    "    for i in range(len(p_set)):\n",
    "        yval = p_set[i,1]\n",
    "        j = start_indices[int((yval - int(yval)) * 10)]\n",
    "        while j < 128+1:\n",
    "            if yval >= lvals[j-1] and yval <= lvals[j]:\n",
    "                if yval <= lvals[j-1] + (l/2):\n",
    "                    indices[i][2] = j-2\n",
    "                    indices[i][3] = j-1\n",
    "                else:\n",
    "                    indices[i][2] = j-1\n",
    "                    indices[i][3] = j\n",
    "                break\n",
    "            else:\n",
    "                j += 1\n",
    "\n",
    "    for i in range(len(p_set)):\n",
    "        zval = p_set[i,2]\n",
    "        j = start_indices[int((zval - int(zval)) * 10)]\n",
    "        while j < 128+1:\n",
    "            if zval >= lvals[j-1] and zval <= lvals[j]:\n",
    "                if zval <= lvals[j-1] + (l/2):\n",
    "                    indices[i][4] = j-2\n",
    "                    indices[i][5] = j-1\n",
    "                else:\n",
    "                    indices[i][4] = j-1\n",
    "                    indices[i][5] = j\n",
    "                break\n",
    "            else:\n",
    "                j += 1\n",
    "    if verify:\n",
    "        print(\"Nc\", Nc, \"l\", l)\n",
    "        print(\"Matrix of indices created with shape:\", np.shape(indices))\n",
    "\n",
    "    return indices, lvals\n",
    "#indices, p_set, lvals = calc_indices(field)"
   ]
  },
  {
   "cell_type": "markdown",
   "metadata": {},
   "source": [
    "Calculate the overlap"
   ]
  },
  {
   "cell_type": "code",
   "execution_count": 25,
   "metadata": {},
   "outputs": [],
   "source": [
    "# Calculates the overlap of each particle with each cell\n",
    "def overlap(p_set, l, lvals, indices, verify=False):\n",
    "    dvals = np.zeros((len(p_set), 6)) # Delta parameter values\n",
    "    for i in range(len(p_set)):\n",
    "        pos = np.array([p_set[i][0], p_set[i][1], p_set[i][2]])\n",
    "        left = np.array([p_set[i][0]-(l/2),p_set[i][1]-(l/2),p_set[i][2]-(l/2)])\n",
    "        for j in range(len(pos)):\n",
    "            dval = lvals[indices[i][2*j + 1]] - left[j]\n",
    "            dvals[i][2*j] = dval\n",
    "            dvals[i][2*j+1] = l - dval\n",
    "\n",
    "    if verify:\n",
    "        ind = 2 # Change this to the particle number\n",
    "        axes = 0 # Change this to axis you want; x,y,z = 0,1,2\n",
    "\n",
    "        x0 = p_set[ind][axes]\n",
    "        lx0 = x0 - (l/2)\n",
    "        rx = x0+(l/2)\n",
    "        l10 = lvals[indices[ind][2*axes]]\n",
    "        l20 = lvals[indices[ind][2*axes + 1]]\n",
    "\n",
    "        print(\"Left side distribution:\", -lx0 + l20)\n",
    "        print(\"Right side distribution:\", l - (-lx0 + l20))\n",
    "        print(\"Sum is \" + str(-lx0 + l20 + l - (-lx0 + l20)))\n",
    "        print(\"l is \" + str(l))\n",
    "\n",
    "        plt.plot(x0, 0, 'o')\n",
    "        plt.annotate(str(round(x0, 4)), xy=(x0+(l*0.05),0))\n",
    "        plt.plot([lx0, rx], [0.1, 0.1], 'b-')\n",
    "        plt.annotate(\"L/Nc = \" +str(l), xy=(x0-(l*0.35), 0.2))\n",
    "        plt.plot([l10, l20], [0.1,0.1], 'o')\n",
    "        plt.annotate(\"Grid point \" + str(indices[ind][2*axes]), xy=(l10-(l*0.25), -0.3))\n",
    "        plt.annotate(\"Grid point \" + str(indices[ind][2*axes + 1]), xy=(l20-(l*0.25), -0.3))\n",
    "        plt.annotate(\"pos: \"+str(round(l10, 4)), xy=(l10-(l*0.25), -0.4))\n",
    "        plt.annotate(\"pos: \"+str(round(l20, 4)), xy=(l20-(l*0.25), -0.4))\n",
    "        plt.plot([lx0, l20],[-0.1,-0.1], 'y-')\n",
    "        plt.plot([l20, rx], [-0.1,-0.1], 'k-')\n",
    "        plt.annotate(\"LHS: \" + str(round(-lx0 + l20, 5)), xy=(lx0-(0.2*l), -0.5))\n",
    "        plt.annotate(\"RHS: \" + str(round(l - (-lx0 + l20), 5)), xy=(rx-(0.2*l), -0.5))\n",
    "        plt.xlim(x0-(2*l), x0+l)\n",
    "        plt.ylim(-1,1)\n",
    "        plt.yticks([])\n",
    "        plt.title(\"Mass Distribution of point \" + str(ind) + \" on axis \" + str(axes))\n",
    "        plt.xlabel(\"Distance on axis \" + str(axes) + \" (m)\")\n",
    "        plt.show()\n",
    "    \n",
    "    return dvals"
   ]
  },
  {
   "cell_type": "code",
   "execution_count": 26,
   "metadata": {},
   "outputs": [],
   "source": [
    "#dvals = overlap(p_set, indices)\n",
    "#print(\"Delta param values created\", np.shape(dvals))"
   ]
  },
  {
   "cell_type": "markdown",
   "metadata": {},
   "source": [
    "Add to density matrix"
   ]
  },
  {
   "cell_type": "code",
   "execution_count": 29,
   "metadata": {},
   "outputs": [],
   "source": [
    "def dens_overlap(dvals,indices,l,Nc=128,Np=32**3, mp=1, verify=False):\n",
    "    density = np.zeros((Nc,Nc,Nc))\n",
    "    lcube = l**3\n",
    "\n",
    "    for i in range(len(dvals)):\n",
    "        i1, i2, j1, j2, k1, k2 = indices[i]\n",
    "        density[i1,j1,k1] += (mp*dvals[i][0]*dvals[i][2]*dvals[i][4])/lcube\n",
    "        density[i1,j2,k1] += (mp*dvals[i][0]*dvals[i][3]*dvals[i][4])/lcube\n",
    "        density[i1,j1,k2] += (mp*dvals[i][0]*dvals[i][2]*dvals[i][5])/lcube\n",
    "        density[i1,j2,k2] += (mp*dvals[i][0]*dvals[i][3]*dvals[i][5])/lcube\n",
    "        density[i2,j1,k1] += (mp*dvals[i][1]*dvals[i][2]*dvals[i][4])/lcube\n",
    "        density[i2,j2,k1] += (mp*dvals[i][1]*dvals[i][3]*dvals[i][4])/lcube\n",
    "        density[i2,j1,k2] += (mp*dvals[i][1]*dvals[i][2]*dvals[i][5])/lcube\n",
    "        density[i2,j2,k2] += (mp*dvals[i][1]*dvals[i][3]*dvals[i][5])/lcube\n",
    "    \n",
    "    density = density/lcube\n",
    "    \n",
    "    if verify:\n",
    "        print(\"Density matrix created with particle mass\", mp, \", matrix size\", np.shape(density))\n",
    "        massval = 0\n",
    "        for i in range(Nc):\n",
    "            for j in range(Nc):\n",
    "                for k in range(Nc):\n",
    "                    massval += density[i,j,k]\n",
    "\n",
    "        ave = massval/(Nc**3)\n",
    "        print(\"Summing all density values and dividing by volume yields\", ave)\n",
    "        print(\"This value should be the same as\", Np*mp)\n",
    "\n",
    "    return density\n",
    "\n",
    "#mp = 1\n",
    "#l3 = l**3\n",
    "\n",
    "#print(\"Density matrix created with particle mass\", mp, \", matrix size\", np.shape(density))\n"
   ]
  },
  {
   "cell_type": "markdown",
   "metadata": {},
   "source": [
    "Verification"
   ]
  },
  {
   "cell_type": "code",
   "execution_count": 7,
   "metadata": {},
   "outputs": [
    {
     "name": "stdout",
     "output_type": "stream",
     "text": [
      "Function to calculate k values created\n"
     ]
    }
   ],
   "source": [
    "def kvec(Nk):\n",
    "    half = Nk//2\n",
    "    kx = np.zeros(Nk)\n",
    "    for i in range(Nk):\n",
    "        if i <= half:\n",
    "            kx[i] = (2*np.pi/Nk)*i\n",
    "        else:\n",
    "            kx[i] = (2*np.pi/Nk)*(i - Nk)\n",
    "    return np.array(kx)\n",
    "print(\"Function to calculate k values created\")\n"
   ]
  },
  {
   "cell_type": "code",
   "execution_count": 8,
   "metadata": {},
   "outputs": [
    {
     "name": "stdout",
     "output_type": "stream",
     "text": [
      "Function to calculate w(k) created, with adjustable parameter G\n"
     ]
    }
   ],
   "source": [
    "def w(k, G=1):\n",
    "    kx = k[0]\n",
    "    ky = k[1]\n",
    "    kz = k[2]\n",
    "    return -(4*np.pi*G)*(1/(((2*np.sin(kx/2))**2) + ((2*np.sin(ky/2))**2) + ((2*np.sin(kz/2))**2)))\n",
    "print(\"Function to calculate w(k) created, with adjustable parameter G\")"
   ]
  },
  {
   "cell_type": "code",
   "execution_count": 9,
   "metadata": {},
   "outputs": [],
   "source": [
    "def create_k_values(Nc, verify=False):\n",
    "    kvals = kvec(Nc)\n",
    "    if verify:\n",
    "        print(\"List of k values created. 5 equally spaced samples:\", kvals[0], kvals[len(kvals)//4], kvals[len(kvals)//2], kvals[3*(len(kvals)//4)], kvals[-1])\n",
    "    return kvals"
   ]
  },
  {
   "cell_type": "code",
   "execution_count": 10,
   "metadata": {},
   "outputs": [],
   "source": [
    "\n",
    "def create_w_k(Nc, kvals, G=1, verify=False):\n",
    "    wk = np.zeros((Nc, Nc, Nc))\n",
    "    for i in range(Nc):\n",
    "        for j in range(Nc):\n",
    "            for k in range(Nc):\n",
    "                wk[i,j,k] = w(np.array([kvals[i], kvals[j], kvals[k]]), G=G)\n",
    "        if verify:\n",
    "            if i % (128//10) == 0:\n",
    "                print((i/Nc)*100, \"%\")\n",
    "    wk[0,0,0] = 0.0\n",
    "    \n",
    "    if verify:\n",
    "        print(\"wk created with G =\", G, \". Shape of matrix is\", np.shape(wk))\n",
    "    return wk"
   ]
  },
  {
   "cell_type": "markdown",
   "metadata": {},
   "source": [
    "Creating $\\textbf{w(k)}$"
   ]
  },
  {
   "cell_type": "markdown",
   "metadata": {},
   "source": [
    "$\\rho(\\textbf{k}) = \\textrm{FFT}(\\rho(\\phi))$"
   ]
  },
  {
   "cell_type": "code",
   "execution_count": 68,
   "metadata": {},
   "outputs": [],
   "source": [
    "def FFT_density(density, method=\"forward\", fftn_val=True, verify=False):\n",
    "    rho = np.copy(density)\n",
    "    if fftn_val:\n",
    "        density_k = np.fft.fftn(rho, norm=method)\n",
    "    else:\n",
    "        density_k = np.fft.rfftn(rho, norm=method)\n",
    "\n",
    "    if verify:\n",
    "        print(\"rho(k) created, using\", method, \"FFT. Shape is\", np.shape(density_k))\n",
    "    return density_k"
   ]
  },
  {
   "cell_type": "markdown",
   "metadata": {},
   "source": [
    "$\\Phi(\\textbf{k}) = \\rho(\\textbf{k}) w(\\textbf{k})$"
   ]
  },
  {
   "cell_type": "code",
   "execution_count": 72,
   "metadata": {},
   "outputs": [],
   "source": [
    "def calculate_phi_k(density_k,wk,Nc=128,verify=False, slice=False):\n",
    "    Phi_k = np.zeros((Nc, Nc, Nc), complex)\n",
    "    if slice:\n",
    "        wk = wk[:,:,:density_k.shape[2]]\n",
    "\n",
    "    for i in range(len(density_k)):\n",
    "        for j in range(len(density_k[0])):\n",
    "            for k in range(len(density_k[0][0])):\n",
    "                Phi_k[i,j,k] = density_k[i,j,k]*wk[i,j,k]\n",
    "        if verify:\n",
    "            if i % (128//10) == 0:\n",
    "                print((i/len(density_k))*100, \"%\")\n",
    "    if verify:\n",
    "        print(\"Phi_k is done. With a size\", np.shape(Phi_k))\n",
    "    return Phi_k"
   ]
  },
  {
   "cell_type": "markdown",
   "metadata": {},
   "source": [
    "Calculating the FFT Inverse of $\\Phi(\\textbf{k})$"
   ]
  },
  {
   "cell_type": "code",
   "execution_count": 76,
   "metadata": {},
   "outputs": [],
   "source": [
    "def phi_k_to_phi_x(Phi_k, L=1.0, Nc=128, verify=False, mult_factor=0.0):\n",
    "    Potential = np.fft.irfftn(Phi_k, s=(128,128,128))*((L/Nc)**mult_factor)\n",
    "    if verify:\n",
    "        plt.imshow(Potential[0])\n",
    "        plt.colorbar().set_label(\"$\\Phi(x)$\")\n",
    "        plt.xticks([])\n",
    "        plt.yticks([])\n",
    "        plt.set_cmap(\"hot\")\n",
    "        plt.title(\"Slice of potential as Sanity Check\")\n",
    "        plt.show()\n",
    "        print(\"Potential Phi(x) created with shape\", np.shape(Potential))\n",
    "    return Potential"
   ]
  },
  {
   "cell_type": "markdown",
   "metadata": {},
   "source": [
    "Calculating Force"
   ]
  },
  {
   "cell_type": "code",
   "execution_count": 14,
   "metadata": {},
   "outputs": [],
   "source": [
    "def forward_diff(f_x, f_xph, h=1e-8):\n",
    "    return (f_xph - f_x)/h\n",
    "\n",
    "def backward_diff(f_x, f_xmh, h=1e-8):\n",
    "    return (f_x - f_xmh)/h\n",
    "\n",
    "def central_diff(f_xmh, f_xph, h=1e-8):\n",
    "    return (f_xph - f_xmh)/(2*h)\n",
    "\n",
    "def test_func(x):\n",
    "    return 3*(x**5) - 4*(x**4)\n",
    "\n",
    "def verify_derivative_functions(a=0,b=1.5,Ntt=50, details=False):\n",
    "    testy = np.zeros(Ntt)\n",
    "    xtest = np.linspace(a, b, Ntt)\n",
    "    hval = (b-a)/Ntt\n",
    "    for i in range(len(testy)):\n",
    "        testy[i] = test_func(xtest[i])\n",
    "\n",
    "    dtesty = np.zeros(Ntt)\n",
    "    for i in range(len(dtesty)):\n",
    "        if i == 0:\n",
    "            dtesty[i] = forward_diff(testy[i], testy[i+1], h=hval)\n",
    "        elif i == len(dtesty) - 1:\n",
    "            dtesty[i] = backward_diff(testy[i], testy[i-1], h=hval)\n",
    "        else:\n",
    "            dtesty[i] = central_diff(testy[i-1], testy[i+1], h=hval)\n",
    "\n",
    "    if details:\n",
    "        print(\"initial matrix\", testy)\n",
    "        print(\"derivatives\", dtesty)\n",
    "\n",
    "    plt.plot(xtest, testy)\n",
    "    plt.plot(xtest, dtesty, 'k-')\n",
    "    plt.xlim(0, 1.5)\n",
    "    plt.ylim(-2.5,2)\n",
    "    plt.show()"
   ]
  },
  {
   "cell_type": "code",
   "execution_count": 142,
   "metadata": {},
   "outputs": [],
   "source": [
    "\n",
    "# Remnants from just testing out the mechanism\n",
    "def calculate_force(Potential,l,Nc=128,verify=False):\n",
    "    N_test = Nc\n",
    "    test_array = Potential\n",
    "    hval = l\n",
    "\n",
    "    force_array = np.zeros((N_test, N_test, N_test, 3), float)\n",
    "\n",
    "    diff_functions = [central_diff, backward_diff, forward_diff]\n",
    "\n",
    "    axes = 2\n",
    "\n",
    "    for i in range(len(test_array)):\n",
    "        for j in range(len(test_array)):\n",
    "            for k in range(len(test_array)):\n",
    "                diff_method = np.zeros(axes+1, int)\n",
    "                vals = np.zeros(6)\n",
    "                if i == 0:\n",
    "                    diff_method[0] = 2\n",
    "                    vals[0] = test_array[i,j,k]\n",
    "                    vals[1] = test_array[i+1,j,k]\n",
    "                elif i == len(test_array) - 1:\n",
    "                    diff_method[0] = 1\n",
    "                    vals[0] = test_array[i,j,k]\n",
    "                    vals[1] = test_array[i-1,j,k]\n",
    "                else:\n",
    "                    vals[0] = test_array[i-1,j,k]\n",
    "                    vals[1] = test_array[i+1,j,k]\n",
    "\n",
    "                if j == 0:\n",
    "                    diff_method[1] = 2\n",
    "                    vals[2] = test_array[i,j,k]\n",
    "                    vals[3] = test_array[i,j+1,k]\n",
    "                elif j == len(test_array) - 1:\n",
    "                    diff_method[1] = 1\n",
    "                    vals[2] = test_array[i,j,k]\n",
    "                    vals[3] = test_array[i,j-1,k]\n",
    "                else:\n",
    "                    vals[2] = test_array[i,j-1,k]\n",
    "                    vals[3] = test_array[i,j+1,k]\n",
    "\n",
    "                if k == 0:\n",
    "                    diff_method[2] = 2\n",
    "                    vals[4] = test_array[i,j,k]\n",
    "                    vals[5] = test_array[i,j,k+1]\n",
    "                elif k == len(test_array) - 1:\n",
    "                    diff_method[2] = 1\n",
    "                    vals[4] = test_array[i,j,k]\n",
    "                    vals[5] = test_array[i,j,k-1]\n",
    "                else:\n",
    "                    vals[4] = test_array[i,j,k-1]\n",
    "                    vals[5] = test_array[i,j,k+1]\n",
    "\n",
    "                force_array[i,j,k,0] = diff_functions[diff_method[0]](vals[0], vals[1], h=hval)\n",
    "                force_array[i,j,k,1] = diff_functions[diff_method[1]](vals[2], vals[3], h=hval)\n",
    "                force_array[i,j,k,2] = diff_functions[diff_method[2]](vals[4], vals[5], h=hval)\n",
    "    if verify:\n",
    "        print(\"Force Array Successfully Created with shape\", np.shape(force_array))\n",
    "        #print(np.shape(force_array[:,:,0,0]))\n",
    "        f_array = np.zeros(Nc)\n",
    "        for i in range(Nc):\n",
    "            for j in range(Nc):\n",
    "                f_array[i] += force_array[j, i, 64, 0]\n",
    "        plt.plot(np.linspace(0.54, 1, Nc//2), f_array[64:], 'o')\n",
    "        plt.plot(np.linspace(0.54, 1, Nc), 1/((np.linspace(0.54, 1, Nc) - 0.5)**2))\n",
    "        plt.show()\n",
    "    return force_array       \n",
    "    \n"
   ]
  },
  {
   "cell_type": "markdown",
   "metadata": {},
   "source": [
    "Calculate the field with the force"
   ]
  },
  {
   "cell_type": "code",
   "execution_count": 16,
   "metadata": {},
   "outputs": [],
   "source": [
    "def force_overlap(dvals, indices, force,l, mp=1, Nc=128):\n",
    "    density = np.zeros((Nc,Nc,Nc, 3))\n",
    "    coeffs = []\n",
    "    lcube = l**3\n",
    "    #print(dvals[0])\n",
    "    for i in range(len(dvals)):\n",
    "        i1, i2, j1, j2, k1, k2 = indices[i]\n",
    "        #print(force[dvals[i][0],dvals[i][2],dvals[i][4],:])\n",
    "\n",
    "        density[i1,j1,k1] += force[i1,j1,k1,:]*(mp*dvals[i][0]*dvals[i][2]*dvals[i][4])/lcube\n",
    "        density[i1,j2,k1] += force[i1,j2,k1,:]*(mp*dvals[i][0]*dvals[i][3]*dvals[i][4])/lcube\n",
    "        density[i1,j1,k2] += force[i1,j1,k2,:]*(mp*dvals[i][0]*dvals[i][2]*dvals[i][5])/lcube\n",
    "        density[i1,j2,k2] += force[i1,j2,k2,:]*(mp*dvals[i][0]*dvals[i][3]*dvals[i][5])/lcube\n",
    "        density[i2,j1,k1] += force[i2,j1,k1,:]*(mp*dvals[i][1]*dvals[i][2]*dvals[i][4])/lcube\n",
    "        density[i2,j2,k1] += force[i2,j2,k1,:]*(mp*dvals[i][1]*dvals[i][3]*dvals[i][4])/lcube\n",
    "        density[i2,j1,k2] += force[i2,j1,k2,:]*(mp*dvals[i][1]*dvals[i][2]*dvals[i][5])/lcube\n",
    "        density[i2,j2,k2] += force[i2,j2,k2,:]*(mp*dvals[i][1]*dvals[i][3]*dvals[i][5])/lcube\n",
    "\n",
    "        coeffs.append(np.array([dvals[i][0]*dvals[i][2]*dvals[i][4], dvals[i][0]*dvals[i][3]*dvals[i][4], dvals[i][0]*dvals[i][2]*dvals[i][5], dvals[i][0]*dvals[i][3]*dvals[i][5], dvals[i][1]*dvals[i][2]*dvals[i][4], dvals[i][1]*dvals[i][3]*dvals[i][4], dvals[i][1]*dvals[i][2]*dvals[i][5],dvals[i][1]*dvals[i][3]*dvals[i][5]]))\n",
    "    return density, np.array(coeffs)"
   ]
  },
  {
   "cell_type": "markdown",
   "metadata": {},
   "source": [
    "Add Acceleration to field"
   ]
  },
  {
   "cell_type": "code",
   "execution_count": 17,
   "metadata": {},
   "outputs": [],
   "source": [
    "def add_accelerations(field, acc, coeff, indices):\n",
    "    for i in range(len(field)):\n",
    "        i1, i2, j1, j2, k1, k2 = indices[i]\n",
    "        field[i][6] += (acc[i1, j1, k1, 0]*coeff[i,0]) + (acc[i1, j2, k1,0]*coeff[i,1]) + (acc[i1,j1,k2,0]*coeff[i,2]) + (acc[i1,j2,k2,0]*coeff[i,3]) + (acc[i2,j1,k1,0]*coeff[i,4]) + (acc[i2,j2,k1,0]*coeff[i,5]) + (acc[i2,j1,k2,0]*coeff[i,6]) + (acc[i2,j2,k2,0]*coeff[i,7])\n",
    "        field[i][7] += (acc[i1, j1, k1, 1]*coeff[i,0]) + (acc[i1, j2, k1,1]*coeff[i,1]) + (acc[i1,j1,k2,1]*coeff[i,2]) + (acc[i1,j2,k2,1]*coeff[i,3]) + (acc[i2,j1,k1,1]*coeff[i,4]) + (acc[i2,j2,k1,1]*coeff[i,5]) + (acc[i2,j1,k2,1]*coeff[i,6]) + (acc[i2,j2,k2,1]*coeff[i,7])\n",
    "        field[i][8] += (acc[i1, j1, k1, 2]*coeff[i,0]) + (acc[i1, j2, k1,2]*coeff[i,1]) + (acc[i1,j1,k2,2]*coeff[i,2]) + (acc[i1,j2,k2,2]*coeff[i,3]) + (acc[i2,j1,k1,2]*coeff[i,4]) + (acc[i2,j2,k1,2]*coeff[i,5]) + (acc[i2,j1,k2,2]*coeff[i,6]) + (acc[i2,j2,k2,2]*coeff[i,7])"
   ]
  },
  {
   "cell_type": "code",
   "execution_count": 18,
   "metadata": {},
   "outputs": [],
   "source": [
    "# This function only works if velocity at t=0 is 0. In our case it is\n",
    "def calc_init_timestep(acc,l, lamb=0.5):\n",
    "    return lamb*np.sqrt(l/np.max(acc))"
   ]
  },
  {
   "cell_type": "code",
   "execution_count": 19,
   "metadata": {},
   "outputs": [],
   "source": [
    "def calc_timestep(acc, vel, l, lamb=0.5):\n",
    "    t1 = l/np.max(vel)\n",
    "    t2 = np.sqrt(l/np.max(acc))\n",
    "    if t1 > t2:\n",
    "        return lamb*t1\n",
    "    else:\n",
    "        return lamb*t2"
   ]
  },
  {
   "cell_type": "code",
   "execution_count": 60,
   "metadata": {},
   "outputs": [],
   "source": [
    "def calc_init_pos(particles):\n",
    "    pos = np.zeros((len(particles), 3))\n",
    "    for i in range(len(particles)):\n",
    "        pos[i] = np.array([particles[i][0], particles[i][1], particles[i][2]])\n",
    "    return pos"
   ]
  },
  {
   "cell_type": "code",
   "execution_count": 20,
   "metadata": {},
   "outputs": [],
   "source": [
    "#vel = np.zeros((Nc,Nc,Nc,3))\n",
    "def update_vel(acc, dt, Nc=128):\n",
    "    vel = np.zeros((Nc,Nc,Nc,3))\n",
    "    for i in range(len(acc)):\n",
    "        for j in range(len(acc)):\n",
    "            for k in range(len(acc)):\n",
    "                vel[i,j,k,0] += acc[i,j,k,0]*dt\n",
    "                vel[i,j,k,1] += acc[i,j,k,1]*dt\n",
    "                vel[i,j,k,2] += acc[i,j,k,2]*dt\n",
    "    return vel\n"
   ]
  },
  {
   "cell_type": "code",
   "execution_count": 95,
   "metadata": {},
   "outputs": [],
   "source": [
    "def update_acceleration(particles, l, Nc=128, G=1, fft=False, slice=True, mult=1):\n",
    "    particle_current = np.copy(particles)\n",
    "    indices, lvals = calc_indices(particle_current, l)\n",
    "    delta_x_values = overlap(particle_current, l, lvals, indices)\n",
    "    density_i = dens_overlap(delta_x_values, indices, l)\n",
    "    kvalues = create_k_values(Nc)\n",
    "    w_k_values = create_w_k(Nc, kvalues, G)\n",
    "    FFT_rho = FFT_density(density_i, fftn_val=fft)\n",
    "    phi_k = calculate_phi_k(FFT_rho, w_k_values, slice=True)\n",
    "    phi_x = -1 * phi_k_to_phi_x(phi_k, mult_factor=mult)\n",
    "    force = calculate_force(phi_x, l)\n",
    "    acceleration_field, delta_x_coefficients = force_overlap(delta_x_values, indices, force, l)\n",
    "    add_accelerations(particles, acceleration_field, delta_x_coefficients, indices)\n",
    "    "
   ]
  },
  {
   "cell_type": "code",
   "execution_count": 177,
   "metadata": {},
   "outputs": [],
   "source": [
    "def calc_timestep_1(dt0, particles, l, Nc=128, G=1, lamb=0.5, fixed_timestep=False, max_t=1):\n",
    "    snapshots = []\n",
    "    if fixed_timestep:\n",
    "        dt_0 = 0.05*(np.sqrt(((np.pi**2)*(0.25**3))/(4*(32**3))))\n",
    "    else:\n",
    "        dt_0 = dt0\n",
    "    snap = 0\n",
    "    while dt_0 <= (np.sqrt(((np.pi**2)*(0.25**3))/(4*(32**3)))):\n",
    "        #Kick\n",
    "        #Calc v_(i+1/2)\n",
    "        for i in range(len(particles)):\n",
    "            for j in range(3,6):\n",
    "                particles[i][j] += ((0.5)*(particles[i][j+3])*(dt_0))\n",
    "\n",
    "\n",
    "        #Drift\n",
    "        # Calc x_(i+1)\n",
    "        for i in range(len(particles)):\n",
    "            for j in range(3):\n",
    "                particles[i][j] += particles[i][j+3]*dt_0\n",
    "\n",
    "        \n",
    "        #Calc new acceleration\n",
    "        update_acceleration(particles, l, Nc, G)\n",
    "\n",
    "        #Kick\n",
    "        #Calc v_(i+1)\n",
    "        for i in range(len(particles)):\n",
    "            for j in range(3,6):\n",
    "                particles[i][j] += particles[i][j+3]*(dt_0/2)\n",
    "        #print(particles)\n",
    "        snapshots.append(particles[:, 0:3])\n",
    "        if fixed_timestep:\n",
    "            dt_0 += 0.05*(np.sqrt(((np.pi**2)*(0.25**3))/(4*(32**3))))\n",
    "        else:\n",
    "            dt_0 += calc_timestep(particles[:, 6:9], particles[:, 3:6], l, lamb=lamb)\n",
    "        print((snap/20)*100, \"%\")\n",
    "        snap += 1\n",
    "        if snap > 20:\n",
    "            break\n",
    "    return snapshots\n",
    "    # remember to update acc values after x and v"
   ]
  },
  {
   "cell_type": "code",
   "execution_count": 179,
   "metadata": {},
   "outputs": [],
   "source": [
    "\n",
    "def repeat_for_time(dt_0, particles, l, Nc=128, G=1, lamb=0.5, details=True, max_t_steps=1):\n",
    "    snapshot_times = calc_timestep_1(dt_0, particles, l, Nc=Nc, G=G, fixed_timestep=True, max_t=1, lamb=lamb)\n",
    "    print(\"Calculated snapshots.\")\n",
    "    return snapshot_times\n",
    "\n",
    "        "
   ]
  },
  {
   "cell_type": "code",
   "execution_count": 180,
   "metadata": {},
   "outputs": [
    {
     "name": "stdout",
     "output_type": "stream",
     "text": [
      "Initial Particle Setup Completed.\n",
      "Initial Indices, Division Values Setup Completed.\n",
      "Delta x_a, Delta y_a, Delta z_a Initially Calculated.\n",
      "Initial Density Matrix Made.\n",
      "k_x values created.\n"
     ]
    },
    {
     "name": "stderr",
     "output_type": "stream",
     "text": [
      "/tmp/ipykernel_1316/1993806342.py:5: RuntimeWarning: divide by zero encountered in scalar divide\n",
      "  return -(4*np.pi*G)*(1/(((2*np.sin(kx/2))**2) + ((2*np.sin(ky/2))**2) + ((2*np.sin(kz/2))**2)))\n"
     ]
    },
    {
     "name": "stdout",
     "output_type": "stream",
     "text": [
      "w(k) made.\n",
      "FFT(rho) calculated.\n",
      "Phi(k) created.\n",
      "Inverse FFT(Phi(k)) = Phi(x) Completed.\n"
     ]
    },
    {
     "name": "stderr",
     "output_type": "stream",
     "text": [
      "/tmp/ipykernel_1316/3629369823.py:2: DeprecationWarning: `axes` should not be `None` if `s` is not `None` (Deprecated in NumPy 2.0). In a future version of NumPy, this will raise an error and `s[i]` will correspond to the size along the transformed axis specified by `axes[i]`. To retain current behaviour, pass a sequence [0, ..., k-1] to `axes` for an array of dimension k.\n",
      "  Potential = np.fft.irfftn(Phi_k, s=(128,128,128))*((L/Nc)**mult_factor)\n"
     ]
    },
    {
     "name": "stdout",
     "output_type": "stream",
     "text": [
      "Initial Force Field calculated.\n",
      "Initial Acceleration Field Calculated\n",
      "Added Accelerations.\n",
      "Isolated Initial Positions\n",
      "Current time step calculated as 4.366718498296189e-05\n",
      "Moving to calculate for 1 more steps\n",
      "0.0 %\n",
      "5.0 %\n",
      "10.0 %\n",
      "15.0 %\n",
      "20.0 %\n",
      "25.0 %\n",
      "30.0 %\n",
      "35.0 %\n",
      "40.0 %\n",
      "45.0 %\n",
      "50.0 %\n",
      "55.00000000000001 %\n",
      "60.0 %\n",
      "65.0 %\n",
      "70.0 %\n",
      "75.0 %\n",
      "80.0 %\n",
      "85.0 %\n",
      "90.0 %\n",
      "Calculated snapshots.\n"
     ]
    }
   ],
   "source": [
    "def initial_setup(L, Np, Nc, l, rng, mult_factor=0.5, G=1, lamb=0.5, details=True, max_t_steps=1, debug=False, super_debug=False):\n",
    "    \n",
    "\n",
    "    # All within t=0\n",
    "    init_particle = genParticles(L, Np, Nc, l, rng, verify=super_debug)\n",
    "    if details:\n",
    "        print(\"Initial Particle Setup Completed.\")\n",
    "\n",
    "    init_indices, lvals = calc_indices(init_particle, l, verify=debug)\n",
    "    if details:\n",
    "        print(\"Initial Indices, Division Values Setup Completed.\")\n",
    "\n",
    "    delta_x_values = overlap(init_particle, l, lvals, init_indices, verify=debug)\n",
    "    if details:\n",
    "        print(\"Delta x_a, Delta y_a, Delta z_a Initially Calculated.\")\n",
    "\n",
    "\n",
    "    density = dens_overlap(delta_x_values, init_indices, l, verify=super_debug)\n",
    "    if details:\n",
    "        print(\"Initial Density Matrix Made.\")\n",
    "    kvalues = create_k_values(Nc, verify=super_debug)\n",
    "    if details:\n",
    "        print(\"k_x values created.\")\n",
    "    w_k_values = create_w_k(Nc, kvalues, G, verify=super_debug)\n",
    "    if details:\n",
    "        print(\"w(k) made.\")\n",
    "    FFT_rho = FFT_density(density, fftn_val=False, verify=super_debug)\n",
    "    if details:\n",
    "        print(\"FFT(rho) calculated.\")\n",
    "    phi_k = calculate_phi_k(FFT_rho, w_k_values, slice=True, verify=super_debug)\n",
    "    if details:\n",
    "        print(\"Phi(k) created.\")\n",
    "    phi_x = -1 * phi_k_to_phi_x(phi_k, mult_factor=mult_factor, verify=super_debug)\n",
    "    if details:\n",
    "        print(\"Inverse FFT(Phi(k)) = Phi(x) Completed.\")\n",
    "\n",
    "\n",
    "    force = calculate_force(phi_x, l, verify=debug)\n",
    "    if details:\n",
    "        print(\"Initial Force Field calculated.\")\n",
    "    \n",
    "    acceleration_field, delta_x_coefficients = force_overlap(delta_x_values, init_indices, force, l) \n",
    "    if details:\n",
    "        print(\"Initial Acceleration Field Calculated\") \n",
    "     \n",
    "    particles = np.copy(init_particle)\n",
    "    add_accelerations(particles, acceleration_field, delta_x_coefficients, init_indices)\n",
    "    if details:\n",
    "        print(\"Added Accelerations.\")\n",
    "\n",
    "    init_positions = calc_init_pos(init_particle)\n",
    "    if details:\n",
    "        print(\"Isolated Initial Positions\")\n",
    "\n",
    "    # Now looking to t != 0\n",
    "    dt0 = calc_init_timestep(acceleration_field, lamb)\n",
    "    if details:\n",
    "        print(\"Current time step calculated as\", dt0)\n",
    "        print(\"Moving to calculate for\", max_t_steps, \"more steps\")\n",
    "    \n",
    "    return repeat_for_time(dt0, particles, l, Nc=128, G=1, lamb=0.5), particles\n",
    "\n",
    "\n",
    "\n",
    "L = 1.0\n",
    "Np = 32**3\n",
    "Nc = 128\n",
    "l = L/Nc\n",
    "rng = np.random.default_rng(1234)\n",
    "mult_factor = -1.875 #The value of ? in the equation (L/Nc)^? # Tent. guess is -1.875\n",
    "\n",
    "debug = False # Change this if you want the Debug section, 4.3\n",
    "\n",
    "super_debug = False # It's for all debugs. All extra graphs made etc.\n",
    "\n",
    "snapshot_times, particles = initial_setup(L, Np, Nc, l, rng, mult_factor=mult_factor, debug=debug, super_debug=super_debug)"
   ]
  },
  {
   "cell_type": "code",
   "execution_count": 198,
   "metadata": {},
   "outputs": [
    {
     "name": "stdout",
     "output_type": "stream",
     "text": [
      "32768\n"
     ]
    }
   ],
   "source": [
    "xlines = np.zeros((Np, len(snapshot_times)))\n",
    "ylines = np.zeros((Np, len(snapshot_times)))\n",
    "zlines = np.zeros((Np, len(snapshot_times)))\n",
    "print(len(xlines))\n",
    "\n",
    "for i in range(len(snapshot_times)):\n",
    "    for j in range(32768):\n",
    "        xlines[j][i] = snapshot_times[i][j][0]\n",
    "        ylines[j][i] = snapshot_times[i][j][1]\n",
    "        zlines[j][i] = snapshot_times[i][j][2]\n",
    "\n",
    "\n"
   ]
  },
  {
   "cell_type": "code",
   "execution_count": null,
   "metadata": {},
   "outputs": [],
   "source": [
    "for i in range(1):\n",
    "    plt.plot(xlines[i], ylines[i], 'r-')\n",
    "    print(xlines[i], ylines[i])\n",
    "plt.show()"
   ]
  },
  {
   "cell_type": "code",
   "execution_count": null,
   "metadata": {},
   "outputs": [],
   "source": [
    "for i in range(len(ylines)):\n",
    "    plt.plot(ylines[i], zlines[i], 'k-')\n",
    "plt.show()"
   ]
  },
  {
   "cell_type": "code",
   "execution_count": null,
   "metadata": {},
   "outputs": [],
   "source": [
    "magnitudes = np.zeros((len(snapshot_times), 32**3))\n",
    "for i in range(len(snapshot_times)):\n",
    "    for j in range(32**3):\n",
    "        magnitudes[i, j] = np.linalg.norm(snapshot_times[j])\n",
    "\n",
    "sorted = np.zeros((len(snapshot_times), 32**3))\n",
    "for i in range(len(snapshot_times)):\n",
    "    sorted[i] = np.sort(magnitudes[i])\n",
    "\n",
    "plt.plot(sorted[10])\n",
    "plt.show()"
   ]
  },
  {
   "cell_type": "code",
   "execution_count": null,
   "metadata": {},
   "outputs": [],
   "source": [
    "accelerations = np.zeros((len(snapshot_times) 32**3))\n",
    "\n",
    "for i in range(len(snapshot_times)):\n",
    "    for j in range(32**3):\n",
    "        accelerations[i, j] = np.linalg.norm(particles[j][6:9])\n"
   ]
  }
 ],
 "metadata": {
  "kernelspec": {
   "display_name": "Python 3",
   "language": "python",
   "name": "python3"
  },
  "language_info": {
   "codemirror_mode": {
    "name": "ipython",
    "version": 3
   },
   "file_extension": ".py",
   "mimetype": "text/x-python",
   "name": "python",
   "nbconvert_exporter": "python",
   "pygments_lexer": "ipython3",
   "version": "3.11.9"
  }
 },
 "nbformat": 4,
 "nbformat_minor": 2
}
